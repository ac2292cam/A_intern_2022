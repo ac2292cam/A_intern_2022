{
 "cells": [
  {
   "cell_type": "code",
   "execution_count": 163,
   "outputs": [],
   "source": [
    "import keras as keras\n",
    "import tensorflow as tf\n",
    "from tensorflow import keras\n",
    "import numpy as np\n",
    "import matplotlib.pyplot as plt\n",
    "from scipy.io import loadmat"
   ],
   "metadata": {
    "collapsed": false,
    "pycharm": {
     "name": "#%%\n"
    }
   }
  },
  {
   "cell_type": "code",
   "execution_count": 164,
   "outputs": [
    {
     "ename": "FileNotFoundError",
     "evalue": "[Errno 2] No such file or directory: 'exp_w109.mat'",
     "output_type": "error",
     "traceback": [
      "\u001B[0;31m---------------------------------------------------------------------------\u001B[0m",
      "\u001B[0;31mFileNotFoundError\u001B[0m                         Traceback (most recent call last)",
      "\u001B[0;32m~/opt/anaconda3/envs/summer2022_2/lib/python3.7/site-packages/scipy/io/matlab/mio.py\u001B[0m in \u001B[0;36m_open_file\u001B[0;34m(file_like, appendmat, mode)\u001B[0m\n\u001B[1;32m     38\u001B[0m     \u001B[0;32mtry\u001B[0m\u001B[0;34m:\u001B[0m\u001B[0;34m\u001B[0m\u001B[0;34m\u001B[0m\u001B[0m\n\u001B[0;32m---> 39\u001B[0;31m         \u001B[0;32mreturn\u001B[0m \u001B[0mopen\u001B[0m\u001B[0;34m(\u001B[0m\u001B[0mfile_like\u001B[0m\u001B[0;34m,\u001B[0m \u001B[0mmode\u001B[0m\u001B[0;34m)\u001B[0m\u001B[0;34m,\u001B[0m \u001B[0;32mTrue\u001B[0m\u001B[0;34m\u001B[0m\u001B[0;34m\u001B[0m\u001B[0m\n\u001B[0m\u001B[1;32m     40\u001B[0m     \u001B[0;32mexcept\u001B[0m \u001B[0mIOError\u001B[0m \u001B[0;32mas\u001B[0m \u001B[0me\u001B[0m\u001B[0;34m:\u001B[0m\u001B[0;34m\u001B[0m\u001B[0;34m\u001B[0m\u001B[0m\n",
      "\u001B[0;31mFileNotFoundError\u001B[0m: [Errno 2] No such file or directory: 'exp_w109.mat'",
      "\nDuring handling of the above exception, another exception occurred:\n",
      "\u001B[0;31mFileNotFoundError\u001B[0m                         Traceback (most recent call last)",
      "\u001B[0;32m/var/folders/hf/qjztdgps209_wl7gb22k35zh0000gn/T/ipykernel_40250/2788992697.py\u001B[0m in \u001B[0;36m<module>\u001B[0;34m\u001B[0m\n\u001B[0;32m----> 1\u001B[0;31m \u001B[0mimageset\u001B[0m \u001B[0;34m=\u001B[0m \u001B[0mloadmat\u001B[0m\u001B[0;34m(\u001B[0m\u001B[0;34m'exp_w109.mat'\u001B[0m\u001B[0;34m)\u001B[0m\u001B[0;34m[\u001B[0m\u001B[0;34m'DATAcropped'\u001B[0m\u001B[0;34m]\u001B[0m\u001B[0;34m\u001B[0m\u001B[0;34m\u001B[0m\u001B[0m\n\u001B[0m\u001B[1;32m      2\u001B[0m \u001B[0mprint\u001B[0m\u001B[0;34m(\u001B[0m\u001B[0;34mf\"imageset shape = {imageset.shape}\"\u001B[0m\u001B[0;34m)\u001B[0m\u001B[0;34m\u001B[0m\u001B[0;34m\u001B[0m\u001B[0m\n\u001B[1;32m      3\u001B[0m \u001B[0mimageset\u001B[0m \u001B[0;34m=\u001B[0m \u001B[0mnp\u001B[0m\u001B[0;34m.\u001B[0m\u001B[0mtranspose\u001B[0m\u001B[0;34m(\u001B[0m\u001B[0mimageset\u001B[0m\u001B[0;34m,\u001B[0m \u001B[0;34m(\u001B[0m\u001B[0;36m2\u001B[0m\u001B[0;34m,\u001B[0m\u001B[0;36m0\u001B[0m\u001B[0;34m,\u001B[0m\u001B[0;36m1\u001B[0m\u001B[0;34m)\u001B[0m\u001B[0;34m)\u001B[0m\u001B[0;34m\u001B[0m\u001B[0;34m\u001B[0m\u001B[0m\n\u001B[1;32m      4\u001B[0m \u001B[0mprint\u001B[0m\u001B[0;34m(\u001B[0m\u001B[0;34mf\"imageset shape = {imageset.shape}\"\u001B[0m\u001B[0;34m)\u001B[0m\u001B[0;34m\u001B[0m\u001B[0;34m\u001B[0m\u001B[0m\n",
      "\u001B[0;32m~/opt/anaconda3/envs/summer2022_2/lib/python3.7/site-packages/scipy/io/matlab/mio.py\u001B[0m in \u001B[0;36mloadmat\u001B[0;34m(file_name, mdict, appendmat, **kwargs)\u001B[0m\n\u001B[1;32m    222\u001B[0m     \"\"\"\n\u001B[1;32m    223\u001B[0m     \u001B[0mvariable_names\u001B[0m \u001B[0;34m=\u001B[0m \u001B[0mkwargs\u001B[0m\u001B[0;34m.\u001B[0m\u001B[0mpop\u001B[0m\u001B[0;34m(\u001B[0m\u001B[0;34m'variable_names'\u001B[0m\u001B[0;34m,\u001B[0m \u001B[0;32mNone\u001B[0m\u001B[0;34m)\u001B[0m\u001B[0;34m\u001B[0m\u001B[0;34m\u001B[0m\u001B[0m\n\u001B[0;32m--> 224\u001B[0;31m     \u001B[0;32mwith\u001B[0m \u001B[0m_open_file_context\u001B[0m\u001B[0;34m(\u001B[0m\u001B[0mfile_name\u001B[0m\u001B[0;34m,\u001B[0m \u001B[0mappendmat\u001B[0m\u001B[0;34m)\u001B[0m \u001B[0;32mas\u001B[0m \u001B[0mf\u001B[0m\u001B[0;34m:\u001B[0m\u001B[0;34m\u001B[0m\u001B[0;34m\u001B[0m\u001B[0m\n\u001B[0m\u001B[1;32m    225\u001B[0m         \u001B[0mMR\u001B[0m\u001B[0;34m,\u001B[0m \u001B[0m_\u001B[0m \u001B[0;34m=\u001B[0m \u001B[0mmat_reader_factory\u001B[0m\u001B[0;34m(\u001B[0m\u001B[0mf\u001B[0m\u001B[0;34m,\u001B[0m \u001B[0;34m**\u001B[0m\u001B[0mkwargs\u001B[0m\u001B[0;34m)\u001B[0m\u001B[0;34m\u001B[0m\u001B[0;34m\u001B[0m\u001B[0m\n\u001B[1;32m    226\u001B[0m         \u001B[0mmatfile_dict\u001B[0m \u001B[0;34m=\u001B[0m \u001B[0mMR\u001B[0m\u001B[0;34m.\u001B[0m\u001B[0mget_variables\u001B[0m\u001B[0;34m(\u001B[0m\u001B[0mvariable_names\u001B[0m\u001B[0;34m)\u001B[0m\u001B[0;34m\u001B[0m\u001B[0;34m\u001B[0m\u001B[0m\n",
      "\u001B[0;32m~/opt/anaconda3/envs/summer2022_2/lib/python3.7/contextlib.py\u001B[0m in \u001B[0;36m__enter__\u001B[0;34m(self)\u001B[0m\n\u001B[1;32m    110\u001B[0m         \u001B[0;32mdel\u001B[0m \u001B[0mself\u001B[0m\u001B[0;34m.\u001B[0m\u001B[0margs\u001B[0m\u001B[0;34m,\u001B[0m \u001B[0mself\u001B[0m\u001B[0;34m.\u001B[0m\u001B[0mkwds\u001B[0m\u001B[0;34m,\u001B[0m \u001B[0mself\u001B[0m\u001B[0;34m.\u001B[0m\u001B[0mfunc\u001B[0m\u001B[0;34m\u001B[0m\u001B[0;34m\u001B[0m\u001B[0m\n\u001B[1;32m    111\u001B[0m         \u001B[0;32mtry\u001B[0m\u001B[0;34m:\u001B[0m\u001B[0;34m\u001B[0m\u001B[0;34m\u001B[0m\u001B[0m\n\u001B[0;32m--> 112\u001B[0;31m             \u001B[0;32mreturn\u001B[0m \u001B[0mnext\u001B[0m\u001B[0;34m(\u001B[0m\u001B[0mself\u001B[0m\u001B[0;34m.\u001B[0m\u001B[0mgen\u001B[0m\u001B[0;34m)\u001B[0m\u001B[0;34m\u001B[0m\u001B[0;34m\u001B[0m\u001B[0m\n\u001B[0m\u001B[1;32m    113\u001B[0m         \u001B[0;32mexcept\u001B[0m \u001B[0mStopIteration\u001B[0m\u001B[0;34m:\u001B[0m\u001B[0;34m\u001B[0m\u001B[0;34m\u001B[0m\u001B[0m\n\u001B[1;32m    114\u001B[0m             \u001B[0;32mraise\u001B[0m \u001B[0mRuntimeError\u001B[0m\u001B[0;34m(\u001B[0m\u001B[0;34m\"generator didn't yield\"\u001B[0m\u001B[0;34m)\u001B[0m \u001B[0;32mfrom\u001B[0m \u001B[0;32mNone\u001B[0m\u001B[0;34m\u001B[0m\u001B[0;34m\u001B[0m\u001B[0m\n",
      "\u001B[0;32m~/opt/anaconda3/envs/summer2022_2/lib/python3.7/site-packages/scipy/io/matlab/mio.py\u001B[0m in \u001B[0;36m_open_file_context\u001B[0;34m(file_like, appendmat, mode)\u001B[0m\n\u001B[1;32m     15\u001B[0m \u001B[0;34m@\u001B[0m\u001B[0mcontextmanager\u001B[0m\u001B[0;34m\u001B[0m\u001B[0;34m\u001B[0m\u001B[0m\n\u001B[1;32m     16\u001B[0m \u001B[0;32mdef\u001B[0m \u001B[0m_open_file_context\u001B[0m\u001B[0;34m(\u001B[0m\u001B[0mfile_like\u001B[0m\u001B[0;34m,\u001B[0m \u001B[0mappendmat\u001B[0m\u001B[0;34m,\u001B[0m \u001B[0mmode\u001B[0m\u001B[0;34m=\u001B[0m\u001B[0;34m'rb'\u001B[0m\u001B[0;34m)\u001B[0m\u001B[0;34m:\u001B[0m\u001B[0;34m\u001B[0m\u001B[0;34m\u001B[0m\u001B[0m\n\u001B[0;32m---> 17\u001B[0;31m     \u001B[0mf\u001B[0m\u001B[0;34m,\u001B[0m \u001B[0mopened\u001B[0m \u001B[0;34m=\u001B[0m \u001B[0m_open_file\u001B[0m\u001B[0;34m(\u001B[0m\u001B[0mfile_like\u001B[0m\u001B[0;34m,\u001B[0m \u001B[0mappendmat\u001B[0m\u001B[0;34m,\u001B[0m \u001B[0mmode\u001B[0m\u001B[0;34m)\u001B[0m\u001B[0;34m\u001B[0m\u001B[0;34m\u001B[0m\u001B[0m\n\u001B[0m\u001B[1;32m     18\u001B[0m     \u001B[0;32mtry\u001B[0m\u001B[0;34m:\u001B[0m\u001B[0;34m\u001B[0m\u001B[0;34m\u001B[0m\u001B[0m\n\u001B[1;32m     19\u001B[0m         \u001B[0;32myield\u001B[0m \u001B[0mf\u001B[0m\u001B[0;34m\u001B[0m\u001B[0;34m\u001B[0m\u001B[0m\n",
      "\u001B[0;32m~/opt/anaconda3/envs/summer2022_2/lib/python3.7/site-packages/scipy/io/matlab/mio.py\u001B[0m in \u001B[0;36m_open_file\u001B[0;34m(file_like, appendmat, mode)\u001B[0m\n\u001B[1;32m     43\u001B[0m             \u001B[0;32mif\u001B[0m \u001B[0mappendmat\u001B[0m \u001B[0;32mand\u001B[0m \u001B[0;32mnot\u001B[0m \u001B[0mfile_like\u001B[0m\u001B[0;34m.\u001B[0m\u001B[0mendswith\u001B[0m\u001B[0;34m(\u001B[0m\u001B[0;34m'.mat'\u001B[0m\u001B[0;34m)\u001B[0m\u001B[0;34m:\u001B[0m\u001B[0;34m\u001B[0m\u001B[0;34m\u001B[0m\u001B[0m\n\u001B[1;32m     44\u001B[0m                 \u001B[0mfile_like\u001B[0m \u001B[0;34m+=\u001B[0m \u001B[0;34m'.mat'\u001B[0m\u001B[0;34m\u001B[0m\u001B[0;34m\u001B[0m\u001B[0m\n\u001B[0;32m---> 45\u001B[0;31m             \u001B[0;32mreturn\u001B[0m \u001B[0mopen\u001B[0m\u001B[0;34m(\u001B[0m\u001B[0mfile_like\u001B[0m\u001B[0;34m,\u001B[0m \u001B[0mmode\u001B[0m\u001B[0;34m)\u001B[0m\u001B[0;34m,\u001B[0m \u001B[0;32mTrue\u001B[0m\u001B[0;34m\u001B[0m\u001B[0;34m\u001B[0m\u001B[0m\n\u001B[0m\u001B[1;32m     46\u001B[0m         \u001B[0;32melse\u001B[0m\u001B[0;34m:\u001B[0m\u001B[0;34m\u001B[0m\u001B[0;34m\u001B[0m\u001B[0m\n\u001B[1;32m     47\u001B[0m             raise IOError(\n",
      "\u001B[0;31mFileNotFoundError\u001B[0m: [Errno 2] No such file or directory: 'exp_w109.mat'"
     ]
    }
   ],
   "source": [
    "imageset = loadmat('exp_w109.mat')['DATAcropped']\n",
    "print(f\"imageset shape = {imageset.shape}\")\n",
    "imageset = np.transpose(imageset, (2,0,1))\n",
    "print(f\"imageset shape = {imageset.shape}\")"
   ],
   "metadata": {
    "collapsed": false,
    "pycharm": {
     "name": "#%%\n"
    }
   }
  },
  {
   "cell_type": "code",
   "execution_count": null,
   "outputs": [],
   "source": [
    "# chops the images into pixel by pixel squares\n",
    "# originalimages must be in format (number of images, x, y)\n",
    "def chop(originalimages, xpixels, ypixels):\n",
    "    xrange = np.arange(0,originalimages.shape[1]-xpixels,xpixels)\n",
    "    print(xrange)\n",
    "    yrange = np.arange(0,originalimages.shape[2]-ypixels,ypixels)\n",
    "    print(yrange)\n",
    "    choppedimages = np.zeros((len(xrange)*len(yrange)*originalimages.shape[0], xpixels, ypixels))\n",
    "\n",
    "    index = 0\n",
    "    for image in originalimages:\n",
    "        for x in xrange:\n",
    "            for y in yrange:\n",
    "                choppedimages[index,:,:] = image[x:x+xpixels,y:y+ypixels]\n",
    "                index += 1\n",
    "\n",
    "    return choppedimages"
   ],
   "metadata": {
    "collapsed": false,
    "pycharm": {
     "name": "#%%\n"
    }
   }
  },
  {
   "cell_type": "code",
   "execution_count": null,
   "outputs": [],
   "source": [
    "#chop into xpixel by ypixel images\n",
    "xpixels = 512\n",
    "ypixels = 256\n",
    "smallerimages = np.random.shuffle(chop(imageset, xpixels, ypixels))\n",
    "print(f\"smaller images shape = {smallerimages.shape}\")\n",
    "no_of_images = smallerimages.shape[0]\n",
    "no_of_training = int(no_of_images*0.9)\n",
    "no_of_test = int(no_of_images*0.1)\n",
    "\n",
    "# print example of image\n",
    "#plt.imshow(smallerimages[20,:,:])\n",
    "#plt.imshow(smallerimages[100,:,:])\n",
    "#plt.imshow(smallerimages[300,:,:])\n",
    "#plt.imshow(smallerimages[500,:,:])\n",
    "\n",
    "# rescale entries to [0,1] and add extra dimension\n",
    "# use 90% for training and 10% for testing\n",
    "X_train = smallerimages[0:no_of_training,:,:]/(2**16)\n",
    "X_test = smallerimages[no_of_training:no_of_images,:,:]/(2**16)"
   ],
   "metadata": {
    "collapsed": false,
    "pycharm": {
     "name": "#%%\n"
    }
   }
  },
  {
   "cell_type": "code",
   "execution_count": null,
   "outputs": [],
   "source": [
    "imageshape = X_train.shape[1:3]"
   ],
   "metadata": {
    "collapsed": false,
    "pycharm": {
     "name": "#%%\n"
    }
   }
  },
  {
   "cell_type": "code",
   "execution_count": 165,
   "outputs": [
    {
     "name": "stdout",
     "output_type": "stream",
     "text": [
      "Model: \"sequential_39\"\n",
      "_________________________________________________________________\n",
      "Layer (type)                 Output Shape              Param #   \n",
      "=================================================================\n",
      "reshape_27 (Reshape)         (None, 512, 256, 1)       0         \n",
      "_________________________________________________________________\n",
      "conv2d_44 (Conv2D)           (None, 512, 256, 16)      1040      \n",
      "_________________________________________________________________\n",
      "max_pooling2d_42 (MaxPooling (None, 256, 128, 16)      0         \n",
      "_________________________________________________________________\n",
      "conv2d_45 (Conv2D)           (None, 256, 128, 32)      32800     \n",
      "_________________________________________________________________\n",
      "max_pooling2d_43 (MaxPooling (None, 128, 64, 32)       0         \n",
      "_________________________________________________________________\n",
      "conv2d_46 (Conv2D)           (None, 128, 64, 64)       32832     \n",
      "_________________________________________________________________\n",
      "max_pooling2d_44 (MaxPooling (None, 64, 32, 64)        0         \n",
      "=================================================================\n",
      "Total params: 66,672\n",
      "Trainable params: 66,672\n",
      "Non-trainable params: 0\n",
      "_________________________________________________________________\n",
      "None\n"
     ]
    }
   ],
   "source": [
    "encoder = keras.models.Sequential([\n",
    "\n",
    "    # Encoder\n",
    "    keras.layers.Reshape([xpixels, ypixels, 1], input_shape = imageshape),\n",
    "\n",
    "    keras.layers.Conv2D(filters =  16, kernel_size=8, activation='relu', padding='same'),\n",
    "    keras.layers.MaxPooling2D(pool_size=2),\n",
    "\n",
    "    keras.layers.Conv2D(filters =  32, kernel_size=8, activation='relu', padding='same'),\n",
    "    keras.layers.MaxPooling2D(pool_size=2),\n",
    "\n",
    "    keras.layers.Conv2D(filters =  64, kernel_size=4, activation='relu', padding='same'),\n",
    "    keras.layers.MaxPooling2D(pool_size=2),\n",
    "    ])\n",
    "\n",
    "print(encoder.summary())"
   ],
   "metadata": {
    "collapsed": false,
    "pycharm": {
     "name": "#%%\n"
    }
   }
  },
  {
   "cell_type": "code",
   "execution_count": 166,
   "outputs": [
    {
     "name": "stdout",
     "output_type": "stream",
     "text": [
      "Model: \"sequential_40\"\n",
      "_________________________________________________________________\n",
      "Layer (type)                 Output Shape              Param #   \n",
      "=================================================================\n",
      "conv2d_transpose_42 (Conv2DT (None, 128, 64, 32)       18464     \n",
      "_________________________________________________________________\n",
      "conv2d_transpose_43 (Conv2DT (None, 256, 128, 16)      4624      \n",
      "_________________________________________________________________\n",
      "conv2d_transpose_44 (Conv2DT (None, 512, 256, 1)       145       \n",
      "_________________________________________________________________\n",
      "reshape_28 (Reshape)         (None, 512, 256)          0         \n",
      "=================================================================\n",
      "Total params: 23,233\n",
      "Trainable params: 23,233\n",
      "Non-trainable params: 0\n",
      "_________________________________________________________________\n",
      "None\n"
     ]
    }
   ],
   "source": [
    "decoder = keras.models.Sequential([\n",
    "    keras.layers.Conv2DTranspose(32, kernel_size = 3, strides =2, padding = 'same', activation ='relu', input_shape = [64,32,64]),\n",
    "    keras.layers.Conv2DTranspose(16, kernel_size = 3, strides =2, padding = 'same', activation ='relu'),\n",
    "    keras.layers.Conv2DTranspose(1, kernel_size = 3, strides =2, padding = 'same', activation ='tanh'),\n",
    "    keras.layers.Reshape([xpixels,ypixels])\n",
    "])\n",
    "\n",
    "print(decoder.summary())"
   ],
   "metadata": {
    "collapsed": false,
    "pycharm": {
     "name": "#%%\n"
    }
   }
  },
  {
   "cell_type": "code",
   "execution_count": null,
   "outputs": [],
   "source": [
    "autoencoder = keras.models.Sequential([encoder,decoder])"
   ],
   "metadata": {
    "collapsed": false,
    "pycharm": {
     "name": "#%%\n"
    }
   }
  },
  {
   "cell_type": "code",
   "execution_count": null,
   "outputs": [],
   "source": [
    "autoencoder.compile(optimizer='Adam', loss='binary_crossentropy', metrics = ['accuracy'])"
   ],
   "metadata": {
    "collapsed": false,
    "pycharm": {
     "name": "#%%\n"
    }
   }
  },
  {
   "cell_type": "code",
   "execution_count": null,
   "outputs": [],
   "source": [
    "autoencoder.fit(X_train, X_train, epochs = 5, batch_size = 32)"
   ],
   "metadata": {
    "collapsed": false,
    "pycharm": {
     "name": "#%%\n"
    }
   }
  },
  {
   "cell_type": "code",
   "execution_count": null,
   "outputs": [],
   "source": [
    "def plot_image(image):\n",
    "    plt.imshow(image, cmap = \"binary\")\n",
    "    plt.axis(\"off\")\n",
    "\n",
    "def show_reconstructions(model, n_images = 5):\n",
    "    reconstructions = model.predict(X_test[:n_images])\n",
    "    fig = plt.figure()\n",
    "    for image_index in range(n_images):\n",
    "        plt.subplot(2,n_images,1+image_index)\n",
    "        plot_image(X_test[image_index])\n",
    "        plt.subplot(2,n_images, 1+n_images +image_index)\n",
    "        plot_image(reconstructions[image_index])\n",
    "show_reconstructions(autoencoder)\n",
    "plt.savefig(\"reconstruction\")"
   ],
   "metadata": {
    "collapsed": false,
    "pycharm": {
     "name": "#%%\n"
    }
   }
  }
 ],
 "metadata": {
  "kernelspec": {
   "display_name": "Python 3",
   "language": "python",
   "name": "python3"
  },
  "language_info": {
   "codemirror_mode": {
    "name": "ipython",
    "version": 2
   },
   "file_extension": ".py",
   "mimetype": "text/x-python",
   "name": "python",
   "nbconvert_exporter": "python",
   "pygments_lexer": "ipython2",
   "version": "2.7.6"
  }
 },
 "nbformat": 4,
 "nbformat_minor": 0
}