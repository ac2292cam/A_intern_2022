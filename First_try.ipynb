{
 "cells": [
  {
   "cell_type": "code",
   "execution_count": 6,
   "outputs": [],
   "source": [
    "import tensorflow as tf\n",
    "from tensorflow.keras.models import Sequential, Model\n",
    "from tensorflow.keras.layers import Dense, Input\n",
    "import numpy as np\n",
    "import matplotlib.pyplot as plt\n",
    "from tensorflow.keras.layers import Conv2D, MaxPooling2D, UpSampling2D, Reshape, Flatten\n",
    "from scipy.io import loadmat"
   ],
   "metadata": {
    "collapsed": false,
    "pycharm": {
     "name": "#%%\n"
    }
   }
  },
  {
   "cell_type": "code",
   "execution_count": 7,
   "outputs": [
    {
     "name": "stdout",
     "output_type": "stream",
     "text": [
      "(3320, 399, 100)\n"
     ]
    }
   ],
   "source": [
    "first100images = loadmat('w135_first100images.mat')['DATAcropped']\n",
    "print(first100images.shape)"
   ],
   "metadata": {
    "collapsed": false,
    "pycharm": {
     "name": "#%%\n"
    }
   }
  },
  {
   "cell_type": "code",
   "execution_count": 8,
   "outputs": [
    {
     "name": "stdout",
     "output_type": "stream",
     "text": [
      "(100, 3320, 399)\n"
     ]
    }
   ],
   "source": [
    "first100images = np.transpose(first100images, (2,0,1))\n",
    "print(first100images.shape)"
   ],
   "metadata": {
    "collapsed": false,
    "pycharm": {
     "name": "#%%\n"
    }
   }
  },
  {
   "cell_type": "code",
   "execution_count": 9,
   "outputs": [],
   "source": [
    "X_train_original = first100images[0:90,:,:].reshape((90, 3320, 399, 1))/(2**16)\n",
    "X_test_original = first100images[90:100,:,:].reshape((10, 3320, 399, 1))/(2**16)\n",
    "X_train = np.zeros((90, 3320, 400, 1))\n",
    "X_test = np.zeros((10, 3320, 400, 1))\n",
    "X_train[:,:,:399,:] = X_train_original\n",
    "X_test[:,:,:399,:] = X_test_original"
   ],
   "metadata": {
    "collapsed": false,
    "pycharm": {
     "name": "#%%\n"
    }
   }
  },
  {
   "cell_type": "code",
   "execution_count": 10,
   "outputs": [],
   "source": [
    "imageshape = X_train.shape[1:4]"
   ],
   "metadata": {
    "collapsed": false,
    "pycharm": {
     "name": "#%%\n"
    }
   }
  },
  {
   "cell_type": "code",
   "execution_count": 11,
   "outputs": [
    {
     "name": "stdout",
     "output_type": "stream",
     "text": [
      "Model: \"sequential\"\n",
      "_________________________________________________________________\n",
      "Layer (type)                 Output Shape              Param #   \n",
      "=================================================================\n",
      "conv2d (Conv2D)              (None, 3320, 400, 32)     320       \n",
      "_________________________________________________________________\n",
      "max_pooling2d (MaxPooling2D) (None, 1660, 200, 32)     0         \n",
      "_________________________________________________________________\n",
      "conv2d_1 (Conv2D)            (None, 1660, 200, 16)     4624      \n",
      "_________________________________________________________________\n",
      "max_pooling2d_1 (MaxPooling2 (None, 830, 100, 16)      0         \n",
      "_________________________________________________________________\n",
      "conv2d_2 (Conv2D)            (None, 415, 50, 8)        1160      \n",
      "_________________________________________________________________\n",
      "flatten (Flatten)            (None, 166000)            0         \n",
      "=================================================================\n",
      "Total params: 6,104\n",
      "Trainable params: 6,104\n",
      "Non-trainable params: 0\n",
      "_________________________________________________________________\n"
     ]
    },
    {
     "name": "stderr",
     "output_type": "stream",
     "text": [
      "2022-07-05 13:45:26.536196: I tensorflow/core/platform/cpu_feature_guard.cc:145] This TensorFlow binary is optimized with Intel(R) MKL-DNN to use the following CPU instructions in performance critical operations:  SSE4.1 SSE4.2 AVX AVX2 FMA\n",
      "To enable them in non-MKL-DNN operations, rebuild TensorFlow with the appropriate compiler flags.\n",
      "2022-07-05 13:45:26.540995: I tensorflow/core/common_runtime/process_util.cc:115] Creating new thread pool with default inter op setting: 4. Tune using inter_op_parallelism_threads for best performance.\n"
     ]
    }
   ],
   "source": [
    "autoencoder = Sequential()\n",
    "\n",
    "# Encoder\n",
    "autoencoder.add(Conv2D(filters = 32, kernel_size=(3,3), activation='relu', padding='same', input_shape=imageshape))\n",
    "autoencoder.add(MaxPooling2D(pool_size=(2,2)))\n",
    "\n",
    "autoencoder.add(Conv2D(filters =16 , kernel_size=(3,3), activation='relu', padding='same'))\n",
    "autoencoder.add(MaxPooling2D(pool_size=(2,2), padding='same'))\n",
    "\n",
    "autoencoder.add(Conv2D(filters=8, kernel_size=(3,3), activation='relu', padding = 'same', strides=(2,2)))\n",
    "autoencoder.add(Flatten())\n",
    "\n",
    "autoencoder.summary()"
   ],
   "metadata": {
    "collapsed": false,
    "pycharm": {
     "name": "#%%\n"
    }
   }
  },
  {
   "cell_type": "code",
   "execution_count": 12,
   "outputs": [
    {
     "name": "stdout",
     "output_type": "stream",
     "text": [
      "Model: \"sequential\"\n",
      "_________________________________________________________________\n",
      "Layer (type)                 Output Shape              Param #   \n",
      "=================================================================\n",
      "conv2d (Conv2D)              (None, 3320, 400, 32)     320       \n",
      "_________________________________________________________________\n",
      "max_pooling2d (MaxPooling2D) (None, 1660, 200, 32)     0         \n",
      "_________________________________________________________________\n",
      "conv2d_1 (Conv2D)            (None, 1660, 200, 16)     4624      \n",
      "_________________________________________________________________\n",
      "max_pooling2d_1 (MaxPooling2 (None, 830, 100, 16)      0         \n",
      "_________________________________________________________________\n",
      "conv2d_2 (Conv2D)            (None, 415, 50, 8)        1160      \n",
      "_________________________________________________________________\n",
      "flatten (Flatten)            (None, 166000)            0         \n",
      "_________________________________________________________________\n",
      "reshape (Reshape)            (None, 415, 50, 8)        0         \n",
      "_________________________________________________________________\n",
      "conv2d_3 (Conv2D)            (None, 415, 50, 8)        584       \n",
      "_________________________________________________________________\n",
      "up_sampling2d (UpSampling2D) (None, 830, 100, 8)       0         \n",
      "_________________________________________________________________\n",
      "conv2d_4 (Conv2D)            (None, 830, 100, 16)      1168      \n",
      "_________________________________________________________________\n",
      "up_sampling2d_1 (UpSampling2 (None, 1660, 200, 16)     0         \n",
      "_________________________________________________________________\n",
      "conv2d_5 (Conv2D)            (None, 1660, 200, 32)     4640      \n",
      "_________________________________________________________________\n",
      "up_sampling2d_2 (UpSampling2 (None, 3320, 400, 32)     0         \n",
      "_________________________________________________________________\n",
      "conv2d_6 (Conv2D)            (None, 3320, 400, 1)      289       \n",
      "=================================================================\n",
      "Total params: 12,785\n",
      "Trainable params: 12,785\n",
      "Non-trainable params: 0\n",
      "_________________________________________________________________\n"
     ]
    }
   ],
   "source": [
    "# Decoder\n",
    "\n",
    "autoencoder.add(Reshape((415,50,8)))\n",
    "\n",
    "autoencoder.add(Conv2D(filters = 8, kernel_size=(3,3), activation='relu', padding='same'))\n",
    "autoencoder.add(UpSampling2D(size=(2,2)))\n",
    "\n",
    "autoencoder.add(Conv2D(filters = 16, kernel_size=(3,3), activation='relu', padding='same'))\n",
    "autoencoder.add(UpSampling2D(size=(2,2)))\n",
    "\n",
    "autoencoder.add(Conv2D(filters = 32, kernel_size=(3,3), activation='relu', padding='same'))\n",
    "autoencoder.add(UpSampling2D(size=(2,2)))\n",
    "\n",
    "autoencoder.add(Conv2D(filters = 1, kernel_size=(3,3), activation='sigmoid', padding='same'))\n",
    "autoencoder.summary()"
   ],
   "metadata": {
    "collapsed": false,
    "pycharm": {
     "name": "#%%\n"
    }
   }
  },
  {
   "cell_type": "code",
   "execution_count": 13,
   "outputs": [],
   "source": [
    "autoencoder.compile(optimizer='Adam', loss='binary_crossentropy', metrics = ['accuracy'])"
   ],
   "metadata": {
    "collapsed": false,
    "pycharm": {
     "name": "#%%\n"
    }
   }
  },
  {
   "cell_type": "code",
   "execution_count": null,
   "outputs": [
    {
     "name": "stdout",
     "output_type": "stream",
     "text": [
      "Train on 90 samples\n",
      "Epoch 1/50\n"
     ]
    }
   ],
   "source": [
    "autoencoder.fit(X_train, X_train, epochs = 5)"
   ],
   "metadata": {
    "collapsed": false,
    "pycharm": {
     "name": "#%%\n",
     "is_executing": true
    }
   }
  }
 ],
 "metadata": {
  "kernelspec": {
   "display_name": "Python 3",
   "language": "python",
   "name": "python3"
  },
  "language_info": {
   "codemirror_mode": {
    "name": "ipython",
    "version": 2
   },
   "file_extension": ".py",
   "mimetype": "text/x-python",
   "name": "python",
   "nbconvert_exporter": "python",
   "pygments_lexer": "ipython2",
   "version": "2.7.6"
  }
 },
 "nbformat": 4,
 "nbformat_minor": 0
}